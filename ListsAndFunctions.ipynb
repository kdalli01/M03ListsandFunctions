{
 "cells": [
  {
   "cell_type": "code",
   "execution_count": 2,
   "id": "de6ba7b0-c61e-43a9-861d-cbab6c08c22b",
   "metadata": {},
   "outputs": [
    {
     "name": "stdout",
     "output_type": "stream",
     "text": [
      "['mozzarella', 'cinderella', 'salmonella']\n",
      "['mozzarella', 'Cinderella', 'salmonella']\n",
      "['MOZZARELLA', 'Cinderella', 'salmonella']\n",
      "['MOZZARELLA', 'Cinderella']\n",
      "['Harry', 'Ron', 'Hermione']\n",
      "5\n"
     ]
    }
   ],
   "source": [
    "#Ex 7.4 Make a list called things with the provided elements\n",
    "\n",
    "Things = ['mozzarella', 'cinderella', 'salmonella']\n",
    "\n",
    "print(Things)\n",
    "\n",
    "# Ex 7.5 Capitalize the element in things that refers to a person and then print the list.\n",
    "\n",
    "# Did it change the element in the list? - No, it only changed the capitalization of Cinderella\n",
    "\n",
    "Things[1]=Things[1].capitalize()\n",
    "\n",
    "print(Things)\n",
    "\n",
    "#7.6 Make the cheesy element of things all uppercase and then print the list.\n",
    "\n",
    "Things[0]=Things[0].upper()\n",
    "\n",
    "print(Things)\n",
    "\n",
    "#7.7 Delete the disease element from things, collect your Nobel Prize, and print the list.\n",
    "\n",
    "del Things[2]\n",
    "\n",
    "print(Things)\n",
    "\n",
    "#9.1 Define a function called good() that returns the following list: ['Harry', 'Ron', 'Hermione'].\n",
    "\n",
    "def good():\n",
    "\n",
    "    HPList = ['Harry', 'Ron', 'Hermione']\n",
    "\n",
    "    print(HPList)\n",
    "\n",
    "good()\n",
    "\n",
    " \n",
    "\n",
    "#9.2 Define a generator function called get_odds() that returns the odd numbers from range(10).\n",
    "\n",
    "#Use a for loop to find and print the third value returned.\n",
    "\n",
    "def get_odds():\n",
    "\n",
    "    OddList = list(range(1,10,2))\n",
    "    for x in OddList:\n",
    "         if x == OddList[2]:\n",
    "             print(x)       \n",
    "\n",
    "get_odds()"
   ]
  },
  {
   "cell_type": "code",
   "execution_count": null,
   "id": "0c79f5ea-ea94-4d91-ba87-8d0ae9cbffc1",
   "metadata": {},
   "outputs": [],
   "source": []
  }
 ],
 "metadata": {
  "kernelspec": {
   "display_name": "Python 3 (ipykernel)",
   "language": "python",
   "name": "python3"
  },
  "language_info": {
   "codemirror_mode": {
    "name": "ipython",
    "version": 3
   },
   "file_extension": ".py",
   "mimetype": "text/x-python",
   "name": "python",
   "nbconvert_exporter": "python",
   "pygments_lexer": "ipython3",
   "version": "3.11.7"
  }
 },
 "nbformat": 4,
 "nbformat_minor": 5
}
